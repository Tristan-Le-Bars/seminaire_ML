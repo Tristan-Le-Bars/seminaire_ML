{
 "cells": [
  {
   "cell_type": "code",
   "execution_count": 1,
   "id": "1d1e6a4e",
   "metadata": {},
   "outputs": [],
   "source": [
    "import math\n",
    "import numpy as np\n",
    "import pylab as pl\n",
    "import matplotlib.pyplot as plt\n",
    "import pandas as pd\n",
    "from IPython import display\n"
   ]
  },
  {
   "cell_type": "code",
   "execution_count": 2,
   "id": "7b4446f2",
   "metadata": {},
   "outputs": [],
   "source": [
    "dataframe = pd.read_csv(\"ex_2_metric/dataset.csv\")"
   ]
  },
  {
   "cell_type": "code",
   "execution_count": 3,
   "id": "25163e14",
   "metadata": {},
   "outputs": [
    {
     "data": {
      "text/html": [
       "<div>\n",
       "<style scoped>\n",
       "    .dataframe tbody tr th:only-of-type {\n",
       "        vertical-align: middle;\n",
       "    }\n",
       "\n",
       "    .dataframe tbody tr th {\n",
       "        vertical-align: top;\n",
       "    }\n",
       "\n",
       "    .dataframe thead th {\n",
       "        text-align: right;\n",
       "    }\n",
       "</style>\n",
       "<table border=\"1\" class=\"dataframe\">\n",
       "  <thead>\n",
       "    <tr style=\"text-align: right;\">\n",
       "      <th></th>\n",
       "      <th>id</th>\n",
       "      <th>age</th>\n",
       "      <th>height</th>\n",
       "      <th>job</th>\n",
       "      <th>city</th>\n",
       "      <th>favorite music style</th>\n",
       "    </tr>\n",
       "  </thead>\n",
       "  <tbody>\n",
       "    <tr>\n",
       "      <th>0</th>\n",
       "      <td>0</td>\n",
       "      <td>30.237071</td>\n",
       "      <td>179.874298</td>\n",
       "      <td>designer</td>\n",
       "      <td>paris</td>\n",
       "      <td>trap</td>\n",
       "    </tr>\n",
       "    <tr>\n",
       "      <th>1</th>\n",
       "      <td>1</td>\n",
       "      <td>27.915796</td>\n",
       "      <td>172.659587</td>\n",
       "      <td>fireman</td>\n",
       "      <td>marseille</td>\n",
       "      <td>hiphop</td>\n",
       "    </tr>\n",
       "    <tr>\n",
       "      <th>2</th>\n",
       "      <td>2</td>\n",
       "      <td>32.205338</td>\n",
       "      <td>181.337491</td>\n",
       "      <td>teacher</td>\n",
       "      <td>paris</td>\n",
       "      <td>metal</td>\n",
       "    </tr>\n",
       "    <tr>\n",
       "      <th>3</th>\n",
       "      <td>3</td>\n",
       "      <td>26.595215</td>\n",
       "      <td>172.337885</td>\n",
       "      <td>designer</td>\n",
       "      <td>toulouse</td>\n",
       "      <td>metal</td>\n",
       "    </tr>\n",
       "    <tr>\n",
       "      <th>4</th>\n",
       "      <td>4</td>\n",
       "      <td>27.394780</td>\n",
       "      <td>182.708030</td>\n",
       "      <td>teacher</td>\n",
       "      <td>paris</td>\n",
       "      <td>metal</td>\n",
       "    </tr>\n",
       "    <tr>\n",
       "      <th>...</th>\n",
       "      <td>...</td>\n",
       "      <td>...</td>\n",
       "      <td>...</td>\n",
       "      <td>...</td>\n",
       "      <td>...</td>\n",
       "      <td>...</td>\n",
       "    </tr>\n",
       "    <tr>\n",
       "      <th>195</th>\n",
       "      <td>195</td>\n",
       "      <td>38.768667</td>\n",
       "      <td>169.293654</td>\n",
       "      <td>developper</td>\n",
       "      <td>madrid</td>\n",
       "      <td>classical</td>\n",
       "    </tr>\n",
       "    <tr>\n",
       "      <th>196</th>\n",
       "      <td>196</td>\n",
       "      <td>32.041409</td>\n",
       "      <td>176.971060</td>\n",
       "      <td>designer</td>\n",
       "      <td>lille</td>\n",
       "      <td>hiphop</td>\n",
       "    </tr>\n",
       "    <tr>\n",
       "      <th>197</th>\n",
       "      <td>197</td>\n",
       "      <td>29.015181</td>\n",
       "      <td>172.990379</td>\n",
       "      <td>developper</td>\n",
       "      <td>paris</td>\n",
       "      <td>classical</td>\n",
       "    </tr>\n",
       "    <tr>\n",
       "      <th>198</th>\n",
       "      <td>198</td>\n",
       "      <td>28.889681</td>\n",
       "      <td>172.776664</td>\n",
       "      <td>painter</td>\n",
       "      <td>toulouse</td>\n",
       "      <td>rap</td>\n",
       "    </tr>\n",
       "    <tr>\n",
       "      <th>199</th>\n",
       "      <td>199</td>\n",
       "      <td>32.328622</td>\n",
       "      <td>177.087355</td>\n",
       "      <td>teacher</td>\n",
       "      <td>marseille</td>\n",
       "      <td>jazz</td>\n",
       "    </tr>\n",
       "  </tbody>\n",
       "</table>\n",
       "<p>200 rows × 6 columns</p>\n",
       "</div>"
      ],
      "text/plain": [
       "      id        age      height         job       city favorite music style\n",
       "0      0  30.237071  179.874298    designer      paris                 trap\n",
       "1      1  27.915796  172.659587     fireman  marseille               hiphop\n",
       "2      2  32.205338  181.337491     teacher      paris                metal\n",
       "3      3  26.595215  172.337885    designer   toulouse                metal\n",
       "4      4  27.394780  182.708030     teacher      paris                metal\n",
       "..   ...        ...         ...         ...        ...                  ...\n",
       "195  195  38.768667  169.293654  developper     madrid            classical\n",
       "196  196  32.041409  176.971060    designer      lille               hiphop\n",
       "197  197  29.015181  172.990379  developper      paris            classical\n",
       "198  198  28.889681  172.776664     painter   toulouse                  rap\n",
       "199  199  32.328622  177.087355     teacher  marseille                 jazz\n",
       "\n",
       "[200 rows x 6 columns]"
      ]
     },
     "execution_count": 3,
     "metadata": {},
     "output_type": "execute_result"
    }
   ],
   "source": [
    "dataframe"
   ]
  },
  {
   "cell_type": "code",
   "execution_count": 4,
   "id": "a151f6de",
   "metadata": {},
   "outputs": [
    {
     "name": "stdout",
     "output_type": "stream",
     "text": [
      "<class 'pandas.core.frame.DataFrame'>\n",
      "RangeIndex: 200 entries, 0 to 199\n",
      "Data columns (total 6 columns):\n",
      " #   Column                Non-Null Count  Dtype  \n",
      "---  ------                --------------  -----  \n",
      " 0   id                    200 non-null    int64  \n",
      " 1   age                   200 non-null    float64\n",
      " 2   height                200 non-null    float64\n",
      " 3   job                   200 non-null    object \n",
      " 4   city                  200 non-null    object \n",
      " 5   favorite music style  200 non-null    object \n",
      "dtypes: float64(2), int64(1), object(3)\n",
      "memory usage: 9.5+ KB\n",
      "None\n"
     ]
    }
   ],
   "source": [
    "print(dataframe.info())"
   ]
  },
  {
   "cell_type": "markdown",
   "id": "db3cb6f4",
   "metadata": {},
   "source": [
    "Part calcul job dissimilarity"
   ]
  },
  {
   "cell_type": "code",
   "execution_count": 5,
   "id": "4820731e",
   "metadata": {},
   "outputs": [
    {
     "data": {
      "text/plain": [
       "array(['designer', 'fireman', 'teacher', 'doctor', 'painter',\n",
       "       'developper', 'engineer'], dtype=object)"
      ]
     },
     "execution_count": 5,
     "metadata": {},
     "output_type": "execute_result"
    }
   ],
   "source": [
    "dataframe[\"job\"].unique()"
   ]
  },
  {
   "cell_type": "markdown",
   "id": "7f74023c",
   "metadata": {},
   "source": [
    "I didn't find a way to find dissimilarity between jobs that satisfy me, they where always based on the level of education, the income or the penibility.\n",
    "So I sort them myself totaly arbritrarly.\n",
    "\n",
    "Fireman, doctor and teacher are close because they are helpfull jobs.\n",
    "Doctor, Teacher, engineer and dev are close because they are high level of studies jobs.\n",
    "I don't know why but I find dev and designer close.\n",
    "Designer and Painter are artistic jobs so they are close.\n",
    "\n",
    "fireman /\n",
    "doctor /\n",
    "teacher /\n",
    "engineer /\n",
    "dev /\n",
    "designer /\n",
    "painter "
   ]
  },
  {
   "cell_type": "code",
   "execution_count": 6,
   "id": "3b9a350d",
   "metadata": {},
   "outputs": [],
   "source": [
    "def get_job_number(job):\n",
    "        if job == 'fireman':\n",
    "            return 0\n",
    "        if job == 'doctor':\n",
    "            return 1\n",
    "        if job == 'teacher':\n",
    "            return 2\n",
    "        if job == 'engineer':        \n",
    "            return 3\n",
    "        if job == 'developper':       \n",
    "            return 4\n",
    "        if job == 'designer':       \n",
    "            return 5\n",
    "        if job == 'painter':\n",
    "            return 6"
   ]
  },
  {
   "cell_type": "code",
   "execution_count": 7,
   "id": "1c85323d",
   "metadata": {},
   "outputs": [],
   "source": [
    "def get_job_dissimilarity(j1, j2):\n",
    "    n1 = get_job_number(j1)   \n",
    "    n2 = get_job_number(j2)\n",
    "    return (n1 - n2)**2 "
   ]
  },
  {
   "cell_type": "code",
   "execution_count": 8,
   "id": "2aab6cf1",
   "metadata": {},
   "outputs": [
    {
     "data": {
      "text/plain": [
       "array(['paris', 'marseille', 'toulouse', 'madrid', 'lille'], dtype=object)"
      ]
     },
     "execution_count": 8,
     "metadata": {},
     "output_type": "execute_result"
    }
   ],
   "source": [
    "dataframe[\"city\"].unique()"
   ]
  },
  {
   "cell_type": "markdown",
   "id": "a2becea4",
   "metadata": {},
   "source": [
    "We will score the dissimilarities of the city with the distances between them"
   ]
  },
  {
   "cell_type": "code",
   "execution_count": 21,
   "id": "eca78e17",
   "metadata": {},
   "outputs": [],
   "source": [
    "def get_city_pos(city):\n",
    "        if city == 'paris':\n",
    "            return (48.8, 2.3)\n",
    "        if city == 'marseille':\n",
    "            return (43.3, 5.4)\n",
    "        if city == 'toulouse':\n",
    "            return (43.6, 1.4)\n",
    "        if city == 'madrid':        \n",
    "            return (40.4, -3.7)\n",
    "        if city == 'lille':       \n",
    "            return (50.6, 3.0)"
   ]
  },
  {
   "cell_type": "code",
   "execution_count": 10,
   "id": "0444b2bf",
   "metadata": {},
   "outputs": [],
   "source": [
    "def get_city_dissimilarity(city1, city2):\n",
    "    c1 = get_city_pos(city1)\n",
    "    c2 = get_city_pos(city2)\n",
    "    return math.sqrt((c1[0]-c2[0])**2 + (c1[1]-c2[1])**2)"
   ]
  },
  {
   "cell_type": "code",
   "execution_count": 11,
   "id": "272b505b",
   "metadata": {},
   "outputs": [
    {
     "data": {
      "text/plain": [
       "array(['trap', 'hiphop', 'metal', 'rock', 'rap', 'classical', 'other',\n",
       "       'jazz', 'technical death metal'], dtype=object)"
      ]
     },
     "execution_count": 11,
     "metadata": {},
     "output_type": "execute_result"
    }
   ],
   "source": [
    "dataframe[\"favorite music style\"].unique()"
   ]
  },
  {
   "cell_type": "raw",
   "id": "66dd5608",
   "metadata": {},
   "source": [
    "I will use this map to map the styles and calcul dissimilarities"
   ]
  },
  {
   "cell_type": "code",
   "execution_count": 12,
   "id": "b134970f",
   "metadata": {},
   "outputs": [],
   "source": [
    "def get_style_pos(style):\n",
    "        if style == 'other':\n",
    "            return (0, 0)\n",
    "        if style == 'trap':\n",
    "            return (-5, 0)\n",
    "        if style == 'hiphop':        \n",
    "            return (-5, -1)\n",
    "        if style == 'metal':       \n",
    "            return (-1, 5)\n",
    "        if style == 'rock':\n",
    "            return (1, -2)\n",
    "        if style == 'rap':\n",
    "            return (-5, -2)\n",
    "        if style == 'classical':\n",
    "            return (-1, 3)\n",
    "        if style == 'jazz':        \n",
    "            return (1, 1)\n",
    "        if style == 'technical death metal':\n",
    "            return (0, 5)"
   ]
  },
  {
   "cell_type": "code",
   "execution_count": 13,
   "id": "a5f79c87",
   "metadata": {},
   "outputs": [],
   "source": [
    "def get_music_dissimilarity(music1, music2):\n",
    "    m1 = get_style_pos(music1)\n",
    "    m2 = get_style_pos(music2)\n",
    "    return ((m1[0]-m2[0])**2 + (m1[1]-m2[1])**2)"
   ]
  },
  {
   "cell_type": "code",
   "execution_count": 14,
   "id": "2c596b1e",
   "metadata": {},
   "outputs": [],
   "source": [
    "def get_age_dissimilarity(age1, age2):\n",
    "    return (age1 - age2)**2"
   ]
  },
  {
   "cell_type": "code",
   "execution_count": 15,
   "id": "4425fc0c",
   "metadata": {},
   "outputs": [],
   "source": [
    "def get_height_dissimilarity(h1, h2):\n",
    "    return (h1-h2)**2"
   ]
  },
  {
   "cell_type": "code",
   "execution_count": 18,
   "id": "8b984d13",
   "metadata": {},
   "outputs": [],
   "source": [
    "def compute_dissimilarity(id1, id2):\n",
    "    age_d = get_age_dissimilarity(dataframe.loc[id1][1], dataframe.loc[id2][1])\n",
    "    height_d = get_height_dissimilarity(dataframe.loc[id1][2], dataframe.loc[id2][2])\n",
    "    job_d = get_job_dissimilarity(dataframe.loc[id1][3], dataframe.loc[id2][3])\n",
    "    city_d = get_city_dissimilarity(dataframe.loc[id1][4], dataframe.loc[id2][4])\n",
    "    style_d = get_music_dissimilarity(dataframe.loc[id1][5], dataframe.loc[id2][5])\n",
    "    return age_d + height_d + job_d + city_d + style_d\n"
   ]
  },
  {
   "cell_type": "code",
   "execution_count": 19,
   "id": "09036499",
   "metadata": {},
   "outputs": [
    {
     "data": {
      "text/html": [
       "<div>\n",
       "<style scoped>\n",
       "    .dataframe tbody tr th:only-of-type {\n",
       "        vertical-align: middle;\n",
       "    }\n",
       "\n",
       "    .dataframe tbody tr th {\n",
       "        vertical-align: top;\n",
       "    }\n",
       "\n",
       "    .dataframe thead th {\n",
       "        text-align: right;\n",
       "    }\n",
       "</style>\n",
       "<table border=\"1\" class=\"dataframe\">\n",
       "  <thead>\n",
       "    <tr style=\"text-align: right;\">\n",
       "      <th></th>\n",
       "      <th>id</th>\n",
       "      <th>age</th>\n",
       "      <th>height</th>\n",
       "      <th>job</th>\n",
       "      <th>city</th>\n",
       "      <th>favorite music style</th>\n",
       "    </tr>\n",
       "  </thead>\n",
       "  <tbody>\n",
       "    <tr>\n",
       "      <th>0</th>\n",
       "      <td>0</td>\n",
       "      <td>30.237071</td>\n",
       "      <td>179.874298</td>\n",
       "      <td>designer</td>\n",
       "      <td>paris</td>\n",
       "      <td>trap</td>\n",
       "    </tr>\n",
       "    <tr>\n",
       "      <th>1</th>\n",
       "      <td>1</td>\n",
       "      <td>27.915796</td>\n",
       "      <td>172.659587</td>\n",
       "      <td>fireman</td>\n",
       "      <td>marseille</td>\n",
       "      <td>hiphop</td>\n",
       "    </tr>\n",
       "    <tr>\n",
       "      <th>2</th>\n",
       "      <td>2</td>\n",
       "      <td>32.205338</td>\n",
       "      <td>181.337491</td>\n",
       "      <td>teacher</td>\n",
       "      <td>paris</td>\n",
       "      <td>metal</td>\n",
       "    </tr>\n",
       "    <tr>\n",
       "      <th>3</th>\n",
       "      <td>3</td>\n",
       "      <td>26.595215</td>\n",
       "      <td>172.337885</td>\n",
       "      <td>designer</td>\n",
       "      <td>toulouse</td>\n",
       "      <td>metal</td>\n",
       "    </tr>\n",
       "    <tr>\n",
       "      <th>4</th>\n",
       "      <td>4</td>\n",
       "      <td>27.394780</td>\n",
       "      <td>182.708030</td>\n",
       "      <td>teacher</td>\n",
       "      <td>paris</td>\n",
       "      <td>metal</td>\n",
       "    </tr>\n",
       "  </tbody>\n",
       "</table>\n",
       "</div>"
      ],
      "text/plain": [
       "   id        age      height       job       city favorite music style\n",
       "0   0  30.237071  179.874298  designer      paris                 trap\n",
       "1   1  27.915796  172.659587   fireman  marseille               hiphop\n",
       "2   2  32.205338  181.337491   teacher      paris                metal\n",
       "3   3  26.595215  172.337885  designer   toulouse                metal\n",
       "4   4  27.394780  182.708030   teacher      paris                metal"
      ]
     },
     "execution_count": 19,
     "metadata": {},
     "output_type": "execute_result"
    }
   ],
   "source": [
    "dataframe.head()"
   ]
  },
  {
   "cell_type": "code",
   "execution_count": 23,
   "id": "590f9c14",
   "metadata": {},
   "outputs": [
    {
     "data": {
      "text/plain": [
       "56.0150074064606"
      ]
     },
     "execution_count": 23,
     "metadata": {},
     "output_type": "execute_result"
    }
   ],
   "source": [
    "compute_dissimilarity(0,2)"
   ]
  },
  {
   "cell_type": "code",
   "execution_count": 24,
   "id": "f7c2e56e",
   "metadata": {},
   "outputs": [
    {
     "name": "stdout",
     "output_type": "stream",
     "text": [
      "compute dissimilarities\n",
      "dissimilarity matrix\n",
      "[[  0.          89.75385273  56.01500741 ...  74.88136     62.46917781\n",
      "   64.45511884]\n",
      " [ 89.75385273   0.         156.01966041 ...  55.63154882  41.97339327\n",
      "   83.07816053]\n",
      " [ 56.01500741 156.01966041   0.         ...  87.85137587 170.55864102\n",
      "   44.39233341]\n",
      " ...\n",
      " [ 74.88136     55.63154882  87.85137587 ...   0.          50.33873418\n",
      "   46.0775785 ]\n",
      " [ 62.46917781  41.97339327 170.55864102 ...  50.33873418   0.\n",
      "   95.4196021 ]\n",
      " [ 64.45511884  83.07816053  44.39233341 ...  46.0775785   95.4196021\n",
      "    0.        ]]\n"
     ]
    }
   ],
   "source": [
    "dissimilarity_matrix = np.zeros((200, 200))\n",
    "print(\"compute dissimilarities\")\n",
    "for player_1_id in range(200):\n",
    "    for player_2_id in range(200):\n",
    "        dissimilarity = compute_dissimilarity(player_1_id, player_2_id)\n",
    "        dissimilarity_matrix[player_1_id, player_2_id] = dissimilarity\n",
    "\n",
    "print(\"dissimilarity matrix\")\n",
    "print(dissimilarity_matrix)"
   ]
  },
  {
   "cell_type": "code",
   "execution_count": null,
   "id": "ce777b18",
   "metadata": {},
   "outputs": [],
   "source": []
  }
 ],
 "metadata": {
  "kernelspec": {
   "display_name": "Python 3 (ipykernel)",
   "language": "python",
   "name": "python3"
  },
  "language_info": {
   "codemirror_mode": {
    "name": "ipython",
    "version": 3
   },
   "file_extension": ".py",
   "mimetype": "text/x-python",
   "name": "python",
   "nbconvert_exporter": "python",
   "pygments_lexer": "ipython3",
   "version": "3.8.10"
  }
 },
 "nbformat": 4,
 "nbformat_minor": 5
}
