{
 "cells": [
  {
   "cell_type": "code",
   "execution_count": 91,
   "id": "4a38359e-0977-4a4a-aa64-994d54528672",
   "metadata": {},
   "outputs": [],
   "source": [
    "import numpy as np\n",
    "import pandas as pd\n",
    "import os\n",
    "num_points = 300\n",
    "num_columns = 6\n",
    "means = [0, 1, 2, 3, 4, 5]\n",
    "stds = [1, 2, 3, 4, 5, 6]\n",
    "data = np.empty((num_points, num_columns))\n",
    "for i in range(num_columns):\n",
    "    data[:, i] = np.random.normal(means[i], stds[i], size=num_points)\n",
    "\n",
    "data[:, 5] = data[:, 5].astype(int)\n",
    "data[:, 2] = data[:, 2] + 0.5\n",
    "\n",
    "data[:, 3] = data[:, 3] + 0.5\n",
    "\n",
    "data[:, 0] = data[:, 0] + data[:, 1]\n",
    "data[:, 4] = data[:, 4] - data[:, 1]"
   ]
  },
  {
   "cell_type": "code",
   "execution_count": 92,
   "id": "8cb989a3-3445-4150-a107-51440ff310cb",
   "metadata": {},
   "outputs": [
    {
     "name": "stdout",
     "output_type": "stream",
     "text": [
      "[[ 4.6715093   4.59425163  7.31771217  4.71733469 -5.32145635  2.        ]\n",
      " [-1.09514821  1.34224193  3.92469197  2.52475311  9.91004014  3.        ]\n",
      " [ 0.36220242  0.11506949 -3.87287317  5.6536752   4.39784836 13.        ]\n",
      " ...\n",
      " [ 1.54583794  2.02731994  1.69627225  5.62574128 -5.02898166  1.        ]\n",
      " [-1.45912476 -0.72094118  1.11560837  6.51566218  4.40298875  3.        ]\n",
      " [ 1.18093573  2.65238598  0.9649199   4.50590328  8.82077185 14.        ]]\n"
     ]
    }
   ],
   "source": [
    "print(data)\n",
    "if os.path.exists(\"artificial_dataset.csv\"):\n",
    "    os.remove(\"artificial_dataset.csv\")\n",
    "if os.path.exists(\"artificial_dataset.npy\"):\n",
    "    os.remove(\"artificial_dataset.npy\")\n",
    "np.savetxt('artificial_dataset.csv', data, delimiter=',')\n",
    "np.save('artificial_dataset.npy', data)"
   ]
  },
  {
   "cell_type": "code",
   "execution_count": 93,
   "id": "2e32cab9-3b87-47a2-a286-ab78558c815e",
   "metadata": {},
   "outputs": [],
   "source": [
    "data = np.load('artificial_dataset.npy', allow_pickle=False, fix_imports=True)\n",
    "df = pd.DataFrame(data)\n",
    "\n"
   ]
  },
  {
   "cell_type": "code",
   "execution_count": 94,
   "id": "4e29227f-3859-4b37-92a8-3cb37c67d565",
   "metadata": {},
   "outputs": [
    {
     "data": {
      "text/html": [
       "<div>\n",
       "<style scoped>\n",
       "    .dataframe tbody tr th:only-of-type {\n",
       "        vertical-align: middle;\n",
       "    }\n",
       "\n",
       "    .dataframe tbody tr th {\n",
       "        vertical-align: top;\n",
       "    }\n",
       "\n",
       "    .dataframe thead th {\n",
       "        text-align: right;\n",
       "    }\n",
       "</style>\n",
       "<table border=\"1\" class=\"dataframe\">\n",
       "  <thead>\n",
       "    <tr style=\"text-align: right;\">\n",
       "      <th></th>\n",
       "      <th>0</th>\n",
       "      <th>1</th>\n",
       "      <th>2</th>\n",
       "      <th>3</th>\n",
       "      <th>4</th>\n",
       "      <th>5</th>\n",
       "    </tr>\n",
       "  </thead>\n",
       "  <tbody>\n",
       "    <tr>\n",
       "      <th>count</th>\n",
       "      <td>300.000000</td>\n",
       "      <td>300.000000</td>\n",
       "      <td>300.000000</td>\n",
       "      <td>300.000000</td>\n",
       "      <td>300.000000</td>\n",
       "      <td>300.000000</td>\n",
       "    </tr>\n",
       "    <tr>\n",
       "      <th>mean</th>\n",
       "      <td>1.033058</td>\n",
       "      <td>1.055563</td>\n",
       "      <td>2.273935</td>\n",
       "      <td>3.562914</td>\n",
       "      <td>2.243255</td>\n",
       "      <td>5.060000</td>\n",
       "    </tr>\n",
       "    <tr>\n",
       "      <th>std</th>\n",
       "      <td>2.463685</td>\n",
       "      <td>2.196690</td>\n",
       "      <td>3.033594</td>\n",
       "      <td>3.816264</td>\n",
       "      <td>5.382641</td>\n",
       "      <td>5.848969</td>\n",
       "    </tr>\n",
       "    <tr>\n",
       "      <th>min</th>\n",
       "      <td>-6.059576</td>\n",
       "      <td>-5.349498</td>\n",
       "      <td>-6.639274</td>\n",
       "      <td>-7.166266</td>\n",
       "      <td>-10.913177</td>\n",
       "      <td>-13.000000</td>\n",
       "    </tr>\n",
       "    <tr>\n",
       "      <th>25%</th>\n",
       "      <td>-0.604589</td>\n",
       "      <td>-0.514899</td>\n",
       "      <td>0.486751</td>\n",
       "      <td>0.840140</td>\n",
       "      <td>-1.565226</td>\n",
       "      <td>1.000000</td>\n",
       "    </tr>\n",
       "    <tr>\n",
       "      <th>50%</th>\n",
       "      <td>1.043289</td>\n",
       "      <td>1.109655</td>\n",
       "      <td>2.295266</td>\n",
       "      <td>3.768490</td>\n",
       "      <td>2.283034</td>\n",
       "      <td>4.000000</td>\n",
       "    </tr>\n",
       "    <tr>\n",
       "      <th>75%</th>\n",
       "      <td>2.702209</td>\n",
       "      <td>2.603912</td>\n",
       "      <td>4.147340</td>\n",
       "      <td>5.974576</td>\n",
       "      <td>6.241991</td>\n",
       "      <td>9.000000</td>\n",
       "    </tr>\n",
       "    <tr>\n",
       "      <th>max</th>\n",
       "      <td>8.864331</td>\n",
       "      <td>7.311076</td>\n",
       "      <td>10.391870</td>\n",
       "      <td>15.904747</td>\n",
       "      <td>16.616598</td>\n",
       "      <td>21.000000</td>\n",
       "    </tr>\n",
       "  </tbody>\n",
       "</table>\n",
       "</div>"
      ],
      "text/plain": [
       "                0           1           2           3           4           5\n",
       "count  300.000000  300.000000  300.000000  300.000000  300.000000  300.000000\n",
       "mean     1.033058    1.055563    2.273935    3.562914    2.243255    5.060000\n",
       "std      2.463685    2.196690    3.033594    3.816264    5.382641    5.848969\n",
       "min     -6.059576   -5.349498   -6.639274   -7.166266  -10.913177  -13.000000\n",
       "25%     -0.604589   -0.514899    0.486751    0.840140   -1.565226    1.000000\n",
       "50%      1.043289    1.109655    2.295266    3.768490    2.283034    4.000000\n",
       "75%      2.702209    2.603912    4.147340    5.974576    6.241991    9.000000\n",
       "max      8.864331    7.311076   10.391870   15.904747   16.616598   21.000000"
      ]
     },
     "execution_count": 94,
     "metadata": {},
     "output_type": "execute_result"
    }
   ],
   "source": [
    "df.describe()"
   ]
  },
  {
   "cell_type": "code",
   "execution_count": null,
   "id": "802e6de3-327e-40e0-a7f3-ea9deb79fdd5",
   "metadata": {},
   "outputs": [],
   "source": []
  }
 ],
 "metadata": {
  "kernelspec": {
   "display_name": "Python 3 (ipykernel)",
   "language": "python",
   "name": "python3"
  },
  "language_info": {
   "codemirror_mode": {
    "name": "ipython",
    "version": 3
   },
   "file_extension": ".py",
   "mimetype": "text/x-python",
   "name": "python",
   "nbconvert_exporter": "python",
   "pygments_lexer": "ipython3",
   "version": "3.9.13"
  }
 },
 "nbformat": 4,
 "nbformat_minor": 5
}
