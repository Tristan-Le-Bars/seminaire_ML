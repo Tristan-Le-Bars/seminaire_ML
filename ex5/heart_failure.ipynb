{
 "cells": [
  {
   "cell_type": "markdown",
   "metadata": {},
   "source": [
    "# Heart failures analysis\n",
    "Prediction of the presence of a heart diseas in a patient according to its symtoms and biological parameters."
   ]
  },
  {
   "cell_type": "code",
   "execution_count": 55,
   "metadata": {},
   "outputs": [],
   "source": [
    "import pandas as pd\n",
    "import numpy as np\n",
    "import matplotlib.pyplot as plt\n",
    "from sklearn.model_selection import train_test_split\n",
    "from sklearn.naive_bayes import GaussianNB\n",
    "from sklearn.metrics import accuracy_score\n",
    "from sklearn.metrics import precision_score"
   ]
  },
  {
   "cell_type": "markdown",
   "metadata": {},
   "source": [
    "## Data loading and data exploration\n",
    "exploring the dataset to get a better understanding of its content."
   ]
  },
  {
   "cell_type": "code",
   "execution_count": 56,
   "metadata": {},
   "outputs": [
    {
     "data": {
      "text/html": [
       "<div>\n",
       "<style scoped>\n",
       "    .dataframe tbody tr th:only-of-type {\n",
       "        vertical-align: middle;\n",
       "    }\n",
       "\n",
       "    .dataframe tbody tr th {\n",
       "        vertical-align: top;\n",
       "    }\n",
       "\n",
       "    .dataframe thead th {\n",
       "        text-align: right;\n",
       "    }\n",
       "</style>\n",
       "<table border=\"1\" class=\"dataframe\">\n",
       "  <thead>\n",
       "    <tr style=\"text-align: right;\">\n",
       "      <th></th>\n",
       "      <th>Age</th>\n",
       "      <th>Sex</th>\n",
       "      <th>ChestPainType</th>\n",
       "      <th>RestingBP</th>\n",
       "      <th>Cholesterol</th>\n",
       "      <th>FastingBS</th>\n",
       "      <th>RestingECG</th>\n",
       "      <th>MaxHR</th>\n",
       "      <th>ExerciseAngina</th>\n",
       "      <th>Oldpeak</th>\n",
       "      <th>ST_Slope</th>\n",
       "      <th>HeartDisease</th>\n",
       "    </tr>\n",
       "  </thead>\n",
       "  <tbody>\n",
       "    <tr>\n",
       "      <th>0</th>\n",
       "      <td>40</td>\n",
       "      <td>M</td>\n",
       "      <td>ATA</td>\n",
       "      <td>140</td>\n",
       "      <td>289</td>\n",
       "      <td>0</td>\n",
       "      <td>Normal</td>\n",
       "      <td>172</td>\n",
       "      <td>N</td>\n",
       "      <td>0.0</td>\n",
       "      <td>Up</td>\n",
       "      <td>0</td>\n",
       "    </tr>\n",
       "    <tr>\n",
       "      <th>1</th>\n",
       "      <td>49</td>\n",
       "      <td>F</td>\n",
       "      <td>NAP</td>\n",
       "      <td>160</td>\n",
       "      <td>180</td>\n",
       "      <td>0</td>\n",
       "      <td>Normal</td>\n",
       "      <td>156</td>\n",
       "      <td>N</td>\n",
       "      <td>1.0</td>\n",
       "      <td>Flat</td>\n",
       "      <td>1</td>\n",
       "    </tr>\n",
       "    <tr>\n",
       "      <th>2</th>\n",
       "      <td>37</td>\n",
       "      <td>M</td>\n",
       "      <td>ATA</td>\n",
       "      <td>130</td>\n",
       "      <td>283</td>\n",
       "      <td>0</td>\n",
       "      <td>ST</td>\n",
       "      <td>98</td>\n",
       "      <td>N</td>\n",
       "      <td>0.0</td>\n",
       "      <td>Up</td>\n",
       "      <td>0</td>\n",
       "    </tr>\n",
       "    <tr>\n",
       "      <th>3</th>\n",
       "      <td>48</td>\n",
       "      <td>F</td>\n",
       "      <td>ASY</td>\n",
       "      <td>138</td>\n",
       "      <td>214</td>\n",
       "      <td>0</td>\n",
       "      <td>Normal</td>\n",
       "      <td>108</td>\n",
       "      <td>Y</td>\n",
       "      <td>1.5</td>\n",
       "      <td>Flat</td>\n",
       "      <td>1</td>\n",
       "    </tr>\n",
       "    <tr>\n",
       "      <th>4</th>\n",
       "      <td>54</td>\n",
       "      <td>M</td>\n",
       "      <td>NAP</td>\n",
       "      <td>150</td>\n",
       "      <td>195</td>\n",
       "      <td>0</td>\n",
       "      <td>Normal</td>\n",
       "      <td>122</td>\n",
       "      <td>N</td>\n",
       "      <td>0.0</td>\n",
       "      <td>Up</td>\n",
       "      <td>0</td>\n",
       "    </tr>\n",
       "    <tr>\n",
       "      <th>5</th>\n",
       "      <td>39</td>\n",
       "      <td>M</td>\n",
       "      <td>NAP</td>\n",
       "      <td>120</td>\n",
       "      <td>339</td>\n",
       "      <td>0</td>\n",
       "      <td>Normal</td>\n",
       "      <td>170</td>\n",
       "      <td>N</td>\n",
       "      <td>0.0</td>\n",
       "      <td>Up</td>\n",
       "      <td>0</td>\n",
       "    </tr>\n",
       "    <tr>\n",
       "      <th>6</th>\n",
       "      <td>45</td>\n",
       "      <td>F</td>\n",
       "      <td>ATA</td>\n",
       "      <td>130</td>\n",
       "      <td>237</td>\n",
       "      <td>0</td>\n",
       "      <td>Normal</td>\n",
       "      <td>170</td>\n",
       "      <td>N</td>\n",
       "      <td>0.0</td>\n",
       "      <td>Up</td>\n",
       "      <td>0</td>\n",
       "    </tr>\n",
       "    <tr>\n",
       "      <th>7</th>\n",
       "      <td>54</td>\n",
       "      <td>M</td>\n",
       "      <td>ATA</td>\n",
       "      <td>110</td>\n",
       "      <td>208</td>\n",
       "      <td>0</td>\n",
       "      <td>Normal</td>\n",
       "      <td>142</td>\n",
       "      <td>N</td>\n",
       "      <td>0.0</td>\n",
       "      <td>Up</td>\n",
       "      <td>0</td>\n",
       "    </tr>\n",
       "    <tr>\n",
       "      <th>8</th>\n",
       "      <td>37</td>\n",
       "      <td>M</td>\n",
       "      <td>ASY</td>\n",
       "      <td>140</td>\n",
       "      <td>207</td>\n",
       "      <td>0</td>\n",
       "      <td>Normal</td>\n",
       "      <td>130</td>\n",
       "      <td>Y</td>\n",
       "      <td>1.5</td>\n",
       "      <td>Flat</td>\n",
       "      <td>1</td>\n",
       "    </tr>\n",
       "    <tr>\n",
       "      <th>9</th>\n",
       "      <td>48</td>\n",
       "      <td>F</td>\n",
       "      <td>ATA</td>\n",
       "      <td>120</td>\n",
       "      <td>284</td>\n",
       "      <td>0</td>\n",
       "      <td>Normal</td>\n",
       "      <td>120</td>\n",
       "      <td>N</td>\n",
       "      <td>0.0</td>\n",
       "      <td>Up</td>\n",
       "      <td>0</td>\n",
       "    </tr>\n",
       "  </tbody>\n",
       "</table>\n",
       "</div>"
      ],
      "text/plain": [
       "   Age Sex ChestPainType  RestingBP  Cholesterol  FastingBS RestingECG  MaxHR  \\\n",
       "0   40   M           ATA        140          289          0     Normal    172   \n",
       "1   49   F           NAP        160          180          0     Normal    156   \n",
       "2   37   M           ATA        130          283          0         ST     98   \n",
       "3   48   F           ASY        138          214          0     Normal    108   \n",
       "4   54   M           NAP        150          195          0     Normal    122   \n",
       "5   39   M           NAP        120          339          0     Normal    170   \n",
       "6   45   F           ATA        130          237          0     Normal    170   \n",
       "7   54   M           ATA        110          208          0     Normal    142   \n",
       "8   37   M           ASY        140          207          0     Normal    130   \n",
       "9   48   F           ATA        120          284          0     Normal    120   \n",
       "\n",
       "  ExerciseAngina  Oldpeak ST_Slope  HeartDisease  \n",
       "0              N      0.0       Up             0  \n",
       "1              N      1.0     Flat             1  \n",
       "2              N      0.0       Up             0  \n",
       "3              Y      1.5     Flat             1  \n",
       "4              N      0.0       Up             0  \n",
       "5              N      0.0       Up             0  \n",
       "6              N      0.0       Up             0  \n",
       "7              N      0.0       Up             0  \n",
       "8              Y      1.5     Flat             1  \n",
       "9              N      0.0       Up             0  "
      ]
     },
     "execution_count": 56,
     "metadata": {},
     "output_type": "execute_result"
    }
   ],
   "source": [
    "df = pd.read_csv(\"../data/heart.csv\")\n",
    "df.dropna()\n",
    "df.head(10)"
   ]
  },
  {
   "cell_type": "code",
   "execution_count": 57,
   "metadata": {},
   "outputs": [
    {
     "name": "stdout",
     "output_type": "stream",
     "text": [
      "<class 'pandas.core.frame.DataFrame'>\n",
      "RangeIndex: 918 entries, 0 to 917\n",
      "Data columns (total 12 columns):\n",
      " #   Column          Non-Null Count  Dtype  \n",
      "---  ------          --------------  -----  \n",
      " 0   Age             918 non-null    int64  \n",
      " 1   Sex             918 non-null    object \n",
      " 2   ChestPainType   918 non-null    object \n",
      " 3   RestingBP       918 non-null    int64  \n",
      " 4   Cholesterol     918 non-null    int64  \n",
      " 5   FastingBS       918 non-null    int64  \n",
      " 6   RestingECG      918 non-null    object \n",
      " 7   MaxHR           918 non-null    int64  \n",
      " 8   ExerciseAngina  918 non-null    object \n",
      " 9   Oldpeak         918 non-null    float64\n",
      " 10  ST_Slope        918 non-null    object \n",
      " 11  HeartDisease    918 non-null    int64  \n",
      "dtypes: float64(1), int64(6), object(5)\n",
      "memory usage: 86.2+ KB\n"
     ]
    }
   ],
   "source": [
    "df.info()"
   ]
  },
  {
   "cell_type": "code",
   "execution_count": 58,
   "metadata": {},
   "outputs": [
    {
     "data": {
      "text/html": [
       "<div>\n",
       "<style scoped>\n",
       "    .dataframe tbody tr th:only-of-type {\n",
       "        vertical-align: middle;\n",
       "    }\n",
       "\n",
       "    .dataframe tbody tr th {\n",
       "        vertical-align: top;\n",
       "    }\n",
       "\n",
       "    .dataframe thead th {\n",
       "        text-align: right;\n",
       "    }\n",
       "</style>\n",
       "<table border=\"1\" class=\"dataframe\">\n",
       "  <thead>\n",
       "    <tr style=\"text-align: right;\">\n",
       "      <th></th>\n",
       "      <th>Age</th>\n",
       "      <th>RestingBP</th>\n",
       "      <th>Cholesterol</th>\n",
       "      <th>FastingBS</th>\n",
       "      <th>MaxHR</th>\n",
       "      <th>Oldpeak</th>\n",
       "      <th>HeartDisease</th>\n",
       "    </tr>\n",
       "  </thead>\n",
       "  <tbody>\n",
       "    <tr>\n",
       "      <th>count</th>\n",
       "      <td>918.000000</td>\n",
       "      <td>918.000000</td>\n",
       "      <td>918.000000</td>\n",
       "      <td>918.000000</td>\n",
       "      <td>918.000000</td>\n",
       "      <td>918.000000</td>\n",
       "      <td>918.000000</td>\n",
       "    </tr>\n",
       "    <tr>\n",
       "      <th>mean</th>\n",
       "      <td>53.510893</td>\n",
       "      <td>132.396514</td>\n",
       "      <td>198.799564</td>\n",
       "      <td>0.233115</td>\n",
       "      <td>136.809368</td>\n",
       "      <td>0.887364</td>\n",
       "      <td>0.553377</td>\n",
       "    </tr>\n",
       "    <tr>\n",
       "      <th>std</th>\n",
       "      <td>9.432617</td>\n",
       "      <td>18.514154</td>\n",
       "      <td>109.384145</td>\n",
       "      <td>0.423046</td>\n",
       "      <td>25.460334</td>\n",
       "      <td>1.066570</td>\n",
       "      <td>0.497414</td>\n",
       "    </tr>\n",
       "    <tr>\n",
       "      <th>min</th>\n",
       "      <td>28.000000</td>\n",
       "      <td>0.000000</td>\n",
       "      <td>0.000000</td>\n",
       "      <td>0.000000</td>\n",
       "      <td>60.000000</td>\n",
       "      <td>-2.600000</td>\n",
       "      <td>0.000000</td>\n",
       "    </tr>\n",
       "    <tr>\n",
       "      <th>25%</th>\n",
       "      <td>47.000000</td>\n",
       "      <td>120.000000</td>\n",
       "      <td>173.250000</td>\n",
       "      <td>0.000000</td>\n",
       "      <td>120.000000</td>\n",
       "      <td>0.000000</td>\n",
       "      <td>0.000000</td>\n",
       "    </tr>\n",
       "    <tr>\n",
       "      <th>50%</th>\n",
       "      <td>54.000000</td>\n",
       "      <td>130.000000</td>\n",
       "      <td>223.000000</td>\n",
       "      <td>0.000000</td>\n",
       "      <td>138.000000</td>\n",
       "      <td>0.600000</td>\n",
       "      <td>1.000000</td>\n",
       "    </tr>\n",
       "    <tr>\n",
       "      <th>75%</th>\n",
       "      <td>60.000000</td>\n",
       "      <td>140.000000</td>\n",
       "      <td>267.000000</td>\n",
       "      <td>0.000000</td>\n",
       "      <td>156.000000</td>\n",
       "      <td>1.500000</td>\n",
       "      <td>1.000000</td>\n",
       "    </tr>\n",
       "    <tr>\n",
       "      <th>max</th>\n",
       "      <td>77.000000</td>\n",
       "      <td>200.000000</td>\n",
       "      <td>603.000000</td>\n",
       "      <td>1.000000</td>\n",
       "      <td>202.000000</td>\n",
       "      <td>6.200000</td>\n",
       "      <td>1.000000</td>\n",
       "    </tr>\n",
       "  </tbody>\n",
       "</table>\n",
       "</div>"
      ],
      "text/plain": [
       "              Age   RestingBP  Cholesterol   FastingBS       MaxHR  \\\n",
       "count  918.000000  918.000000   918.000000  918.000000  918.000000   \n",
       "mean    53.510893  132.396514   198.799564    0.233115  136.809368   \n",
       "std      9.432617   18.514154   109.384145    0.423046   25.460334   \n",
       "min     28.000000    0.000000     0.000000    0.000000   60.000000   \n",
       "25%     47.000000  120.000000   173.250000    0.000000  120.000000   \n",
       "50%     54.000000  130.000000   223.000000    0.000000  138.000000   \n",
       "75%     60.000000  140.000000   267.000000    0.000000  156.000000   \n",
       "max     77.000000  200.000000   603.000000    1.000000  202.000000   \n",
       "\n",
       "          Oldpeak  HeartDisease  \n",
       "count  918.000000    918.000000  \n",
       "mean     0.887364      0.553377  \n",
       "std      1.066570      0.497414  \n",
       "min     -2.600000      0.000000  \n",
       "25%      0.000000      0.000000  \n",
       "50%      0.600000      1.000000  \n",
       "75%      1.500000      1.000000  \n",
       "max      6.200000      1.000000  "
      ]
     },
     "execution_count": 58,
     "metadata": {},
     "output_type": "execute_result"
    }
   ],
   "source": [
    "df.describe()"
   ]
  },
  {
   "cell_type": "code",
   "execution_count": 59,
   "metadata": {},
   "outputs": [
    {
     "data": {
      "image/png": "[encoded data removed]",
      "text/plain": [
       "<Figure size 1440x1080 with 9 Axes>"
      ]
     },
     "metadata": {
      "needs_background": "light"
     },
     "output_type": "display_data"
    }
   ],
   "source": [
    "df.hist(bins=50, figsize=(20,15))\n",
    "plt.show()"
   ]
  },
  {
   "cell_type": "code",
   "execution_count": 60,
   "metadata": {},
   "outputs": [],
   "source": [
    "# input_dict = {\"Age\" : df['Age'], \"RestingBP\" : df['RestingBP']}\n",
    "age_bp_dict = {\"Age\" : df['Age'], \"RestingBP\" : df['RestingBP']}\n",
    "age_bp_df = pd.DataFrame(age_bp_dict)\n",
    "\n",
    "age_op_dict = {\"Age\" : df['Age'], \"Oldpeak\" : df['Oldpeak']}\n",
    "age_op_df = pd.DataFrame(age_op_dict)\n",
    "\n",
    "chol_bp_dict = {\"Cholesterol\" : df['Cholesterol'], \"RestingBP\" : df['RestingBP']}\n",
    "chol_bp_df = pd.DataFrame(chol_bp_dict)\n",
    "\n",
    "hr_bp_dict = {\"MaxHR\" : df['MaxHR'], \"RestingBP\" : df['RestingBP']}\n",
    "hr_bp_df = pd.DataFrame(hr_bp_dict)\n",
    "\n",
    "hr_op_dict = {\"MaxHR\" : df['MaxHR'], \"Oldpeak\" : df['Oldpeak']}\n",
    "hr_op_df = pd.DataFrame(hr_op_dict)\n",
    "\n",
    "bp_op_dict = {\"RestingBP\" : df['RestingBP'], \"Oldpeak\" : df['Oldpeak']}\n",
    "bp_op_df = pd.DataFrame(bp_op_dict)\n",
    "\n",
    "hr_chol_dict = {\"Max_HR\" : df['MaxHR'], \"Cholesterol\" : df['Cholesterol']}\n",
    "hr_chol_df = pd.DataFrame(hr_chol_dict)\n",
    "\n",
    "hr_age_dict = {\"Max_HR\" : df['MaxHR'], \"Age\" : df['Age']}\n",
    "hr_age_df = pd.DataFrame(hr_age_dict)\n",
    "\n",
    "disease_dict = {\"HeartDisease\" : df['HeartDisease']}\n",
    "disease_df = pd.DataFrame(disease_dict)"
   ]
  },
  {
   "cell_type": "markdown",
   "metadata": {},
   "source": [
    "# Bayesian classification\n",
    "In this part, the gaussian bayesian classifier is used to get some metrics of different columns of the dataset to know if they allow to detect a heart disease."
   ]
  },
  {
   "cell_type": "code",
   "execution_count": 61,
   "metadata": {},
   "outputs": [],
   "source": [
    "def gaussian_bayes(input_df):\n",
    "    X_train, X_test, y_train, y_test = train_test_split(input_df, disease_df, test_size=0.20, random_state=42)\n",
    "    gnb = GaussianNB()\n",
    "    history = gnb.fit(X_train, np.ravel(y_train))\n",
    "    y_pred = history.predict(X_test)\n",
    "    print(input_df.columns[0] + \" and \" + input_df.columns[1])\n",
    "    print(\"normalized accuracy score = \" + str(accuracy_score(y_test, y_pred)))\n",
    "    print(\"accuracy score = \" + str(accuracy_score(y_test, y_pred, normalize=False)))\n",
    "    print(\"precision score = \" + str(precision_score(y_test, y_pred, average='macro', zero_division=True)))\n"
   ]
  },
  {
   "cell_type": "code",
   "execution_count": 62,
   "metadata": {},
   "outputs": [
    {
     "name": "stdout",
     "output_type": "stream",
     "text": [
      "Age and RestingBP\n",
      "normalized accuracy score = 0.5706521739130435\n",
      "accuracy score = 105\n",
      "precision score = 0.5596274794388002\n"
     ]
    }
   ],
   "source": [
    "gaussian_bayes(age_bp_df)"
   ]
  },
  {
   "cell_type": "code",
   "execution_count": 63,
   "metadata": {},
   "outputs": [
    {
     "name": "stdout",
     "output_type": "stream",
     "text": [
      "Cholesterol and RestingBP\n",
      "normalized accuracy score = 0.6086956521739131\n",
      "accuracy score = 112\n",
      "precision score = 0.6492194674012857\n"
     ]
    }
   ],
   "source": [
    "gaussian_bayes(chol_bp_df)"
   ]
  },
  {
   "cell_type": "code",
   "execution_count": 64,
   "metadata": {},
   "outputs": [
    {
     "name": "stdout",
     "output_type": "stream",
     "text": [
      "MaxHR and RestingBP\n",
      "normalized accuracy score = 0.657608695652174\n",
      "accuracy score = 121\n",
      "precision score = 0.6529425723777884\n"
     ]
    }
   ],
   "source": [
    "gaussian_bayes(hr_bp_df)"
   ]
  },
  {
   "cell_type": "code",
   "execution_count": 65,
   "metadata": {},
   "outputs": [
    {
     "name": "stdout",
     "output_type": "stream",
     "text": [
      "Max_HR and Cholesterol\n",
      "normalized accuracy score = 0.657608695652174\n",
      "accuracy score = 121\n",
      "precision score = 0.6614583333333333\n"
     ]
    }
   ],
   "source": [
    "gaussian_bayes(hr_chol_df)"
   ]
  },
  {
   "cell_type": "code",
   "execution_count": 66,
   "metadata": {},
   "outputs": [
    {
     "name": "stdout",
     "output_type": "stream",
     "text": [
      "Max_HR and Age\n",
      "normalized accuracy score = 0.657608695652174\n",
      "accuracy score = 121\n",
      "precision score = 0.6505260640841702\n"
     ]
    }
   ],
   "source": [
    "gaussian_bayes(hr_age_df)"
   ]
  },
  {
   "cell_type": "code",
   "execution_count": 67,
   "metadata": {},
   "outputs": [
    {
     "name": "stdout",
     "output_type": "stream",
     "text": [
      "Age and Oldpeak\n",
      "normalized accuracy score = 0.6956521739130435\n",
      "accuracy score = 128\n",
      "precision score = 0.7083782811938151\n"
     ]
    }
   ],
   "source": [
    "gaussian_bayes(age_op_df)"
   ]
  },
  {
   "cell_type": "code",
   "execution_count": 68,
   "metadata": {},
   "outputs": [
    {
     "name": "stdout",
     "output_type": "stream",
     "text": [
      "MaxHR and Oldpeak\n",
      "normalized accuracy score = 0.6956521739130435\n",
      "accuracy score = 128\n",
      "precision score = 0.6931992903607332\n"
     ]
    }
   ],
   "source": [
    "gaussian_bayes(hr_op_df)"
   ]
  },
  {
   "cell_type": "code",
   "execution_count": 69,
   "metadata": {},
   "outputs": [
    {
     "name": "stdout",
     "output_type": "stream",
     "text": [
      "RestingBP and Oldpeak\n",
      "normalized accuracy score = 0.625\n",
      "accuracy score = 115\n",
      "precision score = 0.6532581453634085\n"
     ]
    }
   ],
   "source": [
    "gaussian_bayes(bp_op_df)"
   ]
  },
  {
   "cell_type": "markdown",
   "metadata": {},
   "source": [
    "Now that multiple combination have been tried, the gaussian bayes classifier shows that the data that offer the best correlation to detecte heart disease are the Age and the oldpeak."
   ]
  },
  {
   "cell_type": "markdown",
   "metadata": {},
   "source": [
    "# Decision tree"
   ]
  },
  {
   "cell_type": "code",
   "execution_count": 70,
   "metadata": {},
   "outputs": [],
   "source": [
    "from sklearn import tree\n",
    "from sklearn import metrics\n",
    "from sklearn.tree import DecisionTreeClassifier\n",
    "from sklearn.metrics import confusion_matrix\n",
    "from sklearn.metrics import recall_score\n",
    "from sklearn.metrics import f1_score\n",
    "from sklearn.metrics import roc_auc_score\n",
    "from sklearn.model_selection import KFold\n",
    "from sklearn.model_selection import cross_val_score"
   ]
  },
  {
   "cell_type": "code",
   "execution_count": 71,
   "metadata": {},
   "outputs": [
    {
     "data": {
      "text/html": [
       "<div>\n",
       "<style scoped>\n",
       "    .dataframe tbody tr th:only-of-type {\n",
       "        vertical-align: middle;\n",
       "    }\n",
       "\n",
       "    .dataframe tbody tr th {\n",
       "        vertical-align: top;\n",
       "    }\n",
       "\n",
       "    .dataframe thead th {\n",
       "        text-align: right;\n",
       "    }\n",
       "</style>\n",
       "<table border=\"1\" class=\"dataframe\">\n",
       "  <thead>\n",
       "    <tr style=\"text-align: right;\">\n",
       "      <th></th>\n",
       "      <th>Age</th>\n",
       "      <th>RestingBP</th>\n",
       "      <th>Cholesterol</th>\n",
       "      <th>FastingBS</th>\n",
       "      <th>MaxHR</th>\n",
       "      <th>Oldpeak</th>\n",
       "    </tr>\n",
       "  </thead>\n",
       "  <tbody>\n",
       "    <tr>\n",
       "      <th>0</th>\n",
       "      <td>40</td>\n",
       "      <td>140</td>\n",
       "      <td>289</td>\n",
       "      <td>0</td>\n",
       "      <td>172</td>\n",
       "      <td>0.0</td>\n",
       "    </tr>\n",
       "    <tr>\n",
       "      <th>1</th>\n",
       "      <td>49</td>\n",
       "      <td>160</td>\n",
       "      <td>180</td>\n",
       "      <td>0</td>\n",
       "      <td>156</td>\n",
       "      <td>1.0</td>\n",
       "    </tr>\n",
       "    <tr>\n",
       "      <th>2</th>\n",
       "      <td>37</td>\n",
       "      <td>130</td>\n",
       "      <td>283</td>\n",
       "      <td>0</td>\n",
       "      <td>98</td>\n",
       "      <td>0.0</td>\n",
       "    </tr>\n",
       "    <tr>\n",
       "      <th>3</th>\n",
       "      <td>48</td>\n",
       "      <td>138</td>\n",
       "      <td>214</td>\n",
       "      <td>0</td>\n",
       "      <td>108</td>\n",
       "      <td>1.5</td>\n",
       "    </tr>\n",
       "    <tr>\n",
       "      <th>4</th>\n",
       "      <td>54</td>\n",
       "      <td>150</td>\n",
       "      <td>195</td>\n",
       "      <td>0</td>\n",
       "      <td>122</td>\n",
       "      <td>0.0</td>\n",
       "    </tr>\n",
       "  </tbody>\n",
       "</table>\n",
       "</div>"
      ],
      "text/plain": [
       "   Age  RestingBP  Cholesterol  FastingBS  MaxHR  Oldpeak\n",
       "0   40        140          289          0    172      0.0\n",
       "1   49        160          180          0    156      1.0\n",
       "2   37        130          283          0     98      0.0\n",
       "3   48        138          214          0    108      1.5\n",
       "4   54        150          195          0    122      0.0"
      ]
     },
     "execution_count": 71,
     "metadata": {},
     "output_type": "execute_result"
    }
   ],
   "source": [
    "number_df = df.select_dtypes(['number']).copy()\n",
    "number_df.drop('HeartDisease', inplace = True, axis=1)\n",
    "number_df.head(5)"
   ]
  },
  {
   "cell_type": "code",
   "execution_count": 72,
   "metadata": {},
   "outputs": [
    {
     "name": "stdout",
     "output_type": "stream",
     "text": [
      "[0.85714286 0.82312925 0.78231293 0.74829932 0.78082192]\n"
     ]
    }
   ],
   "source": [
    "X_train, X_test, y_train, y_test = train_test_split(number_df, disease_df, test_size=0.20, random_state=42)\n",
    "clf = DecisionTreeClassifier(criterion = 'entropy', random_state=42, max_depth=3, min_samples_leaf=5).fit(X_train, y_train)\n",
    "scores = cross_val_score(clf, X_train, y_train, cv=5)\n",
    "print(scores)"
   ]
  },
  {
   "cell_type": "markdown",
   "metadata": {},
   "source": [
    "### Plot decision trees "
   ]
  },
  {
   "cell_type": "code",
   "execution_count": 73,
   "metadata": {},
   "outputs": [
    {
     "data": {
      "image/png": "[encoded data removed]",
      "text/plain": [
       "<Figure size 1296x720 with 1 Axes>"
      ]
     },
     "metadata": {
      "needs_background": "light"
     },
     "output_type": "display_data"
    }
   ],
   "source": [
    "plt.figure(figsize=(18,10))\n",
    "tree.plot_tree(clf, feature_names=(\"Age\", \"RestingBP\", \"Cholesterol\", \"FastingBS\", \"MaxHR\", \"Oldpeak\"))\n",
    "plt.show()"
   ]
  },
  {
   "cell_type": "markdown",
   "metadata": {},
   "source": [
    "### Print metrics"
   ]
  },
  {
   "cell_type": "code",
   "execution_count": 74,
   "metadata": {},
   "outputs": [],
   "source": [
    "def print_metrics(prediction, y_test):\n",
    "    print(\"normalized accuracy score = \" + str(accuracy_score(y_test, prediction)))\n",
    "    print(\"precision score = \" + str(precision_score(y_test, prediction, average='macro', zero_division=True)))\n",
    "    tn, fp, fn, tp = confusion_matrix(y_test, prediction).ravel()\n",
    "    tn = tn * 100 / y_test.size\n",
    "    fp = fp * 100 / y_test.size\n",
    "    fn = fn * 100 / y_test.size\n",
    "    tp = tp * 100 / y_test.size\n",
    "    print(\"true negative = \" + str(tn) + \"%, false positive = \" + str(fp) + \"%, false negative = \" + str(fn) + \"%, true positive = \" + str(tp) + \"%\")\n",
    "    print(\"recall score = \" + str(recall_score(y_test, prediction)))\n",
    "    print(\"f1 score = \" + str(f1_score(y_test, prediction)))"
   ]
  },
  {
   "cell_type": "code",
   "execution_count": 75,
   "metadata": {},
   "outputs": [
    {
     "name": "stdout",
     "output_type": "stream",
     "text": [
      "normalized accuracy score = 0.7663043478260869\n",
      "precision score = 0.7682033096926714\n",
      "true negative = 34.78260869565217%, false positive = 7.065217391304348%, false negative = 16.304347826086957%, true positive = 41.84782608695652%\n",
      "recall score = 0.719626168224299\n",
      "f1 score = 0.7817258883248731\n"
     ]
    }
   ],
   "source": [
    "prediction = clf.predict(X_test)\n",
    "\n",
    "print_metrics(prediction, y_test)\n",
    "y_pred_proba = clf.predict_proba(X_test)[:, 1]"
   ]
  },
  {
   "cell_type": "markdown",
   "metadata": {},
   "source": [
    "### Plot the ROC curves"
   ]
  },
  {
   "cell_type": "code",
   "execution_count": 76,
   "metadata": {},
   "outputs": [
    {
     "data": {
      "image/png": "[encoded data removed]",
      "text/plain": [
       "<Figure size 504x504 with 1 Axes>"
      ]
     },
     "metadata": {
      "needs_background": "light"
     },
     "output_type": "display_data"
    }
   ],
   "source": [
    "y_pred_proba = clf.predict_proba(X_test)[::,1]\n",
    "fpr, tpr, _ = metrics.roc_curve(y_test,  y_pred_proba)\n",
    "auc = metrics.roc_auc_score(y_test, y_pred_proba)\n",
    "plt.figure(figsize=(7, 7))\n",
    "plt.plot(fpr,tpr,label=\"ROC curve\")\n",
    "plt.ylabel(\"True positive\")\n",
    "plt.xlabel(\"False positive\")\n",
    "plt.legend(loc=4)\n",
    "plt.grid(True)\n",
    "plt.show()"
   ]
  },
  {
   "cell_type": "markdown",
   "metadata": {},
   "source": [
    "## Experimenting decision trees parameters"
   ]
  },
  {
   "cell_type": "code",
   "execution_count": 77,
   "metadata": {},
   "outputs": [],
   "source": [
    "experiment_clf = DecisionTreeClassifier(criterion = 'entropy', random_state=42, max_depth=3, min_samples_leaf=75, splitter=\"best\").fit(X_train, y_train)"
   ]
  },
  {
   "cell_type": "code",
   "execution_count": 78,
   "metadata": {},
   "outputs": [
    {
     "data": {
      "image/png": "[encoded data removed]",
      "text/plain": [
       "<Figure size 1296x720 with 1 Axes>"
      ]
     },
     "metadata": {
      "needs_background": "light"
     },
     "output_type": "display_data"
    }
   ],
   "source": [
    "plt.figure(figsize=(18,10))\n",
    "tree.plot_tree(experiment_clf, feature_names=(\"Age\", \"RestingBP\", \"Cholesterol\", \"FastingBS\", \"MaxHR\", \"Oldpeak\"))\n",
    "plt.show()"
   ]
  },
  {
   "cell_type": "code",
   "execution_count": 79,
   "metadata": {},
   "outputs": [
    {
     "name": "stdout",
     "output_type": "stream",
     "text": [
      "normalized accuracy score = 0.7228260869565217\n",
      "precision score = 0.7154088050314465\n",
      "true negative = 28.26086956521739%, false positive = 13.58695652173913%, false negative = 14.130434782608695%, true positive = 44.02173913043478%\n",
      "recall score = 0.7570093457943925\n",
      "f1 score = 0.76056338028169\n",
      "roc auc score = 0.7408059230489137\n"
     ]
    }
   ],
   "source": [
    "prediction = experiment_clf.predict(X_test)\n",
    "\n",
    "print_metrics(prediction, y_test)\n",
    "y_pred_proba = experiment_clf.predict_proba(X_test)[:, 1]\n",
    "print(\"roc auc score = \" + str(roc_auc_score(y_test, y_pred_proba)))"
   ]
  },
  {
   "cell_type": "markdown",
   "metadata": {},
   "source": [
    "### Experiment conclusion\n",
    "Experimenting multiple values for the depth of the decision trees shows that a depth within 2 and 4 offer approximatively the same performance, but beyond 4, the performance of the decision tree is only decreasing.\n",
    "Experimenting different split node strategies shows that the \"best\" split strategy gives better performance than the \"random\" split strategy. Changing minimum sample split is decreasing the performance only with high number, performance are not influenced bellow 500.\n",
    "Experimenting multiple value for the minimum smaple leaf show that the performance start decreasing for a number superior to ~75."
   ]
  },
  {
   "cell_type": "markdown",
   "metadata": {},
   "source": [
    "## Linear regression"
   ]
  },
  {
   "cell_type": "code",
   "execution_count": 80,
   "metadata": {},
   "outputs": [],
   "source": [
    "from sklearn import linear_model\n",
    "from sklearn.metrics import r2_score\n",
    "from sklearn.metrics import explained_variance_score\n",
    "from sklearn.neural_network import MLPClassifier"
   ]
  },
  {
   "cell_type": "markdown",
   "metadata": {},
   "source": [
    "We keep only the numerical data to use linear regression and neural network"
   ]
  },
  {
   "cell_type": "code",
   "execution_count": 81,
   "metadata": {},
   "outputs": [
    {
     "data": {
      "text/html": [
       "<div>\n",
       "<style scoped>\n",
       "    .dataframe tbody tr th:only-of-type {\n",
       "        vertical-align: middle;\n",
       "    }\n",
       "\n",
       "    .dataframe tbody tr th {\n",
       "        vertical-align: top;\n",
       "    }\n",
       "\n",
       "    .dataframe thead th {\n",
       "        text-align: right;\n",
       "    }\n",
       "</style>\n",
       "<table border=\"1\" class=\"dataframe\">\n",
       "  <thead>\n",
       "    <tr style=\"text-align: right;\">\n",
       "      <th></th>\n",
       "      <th>Age</th>\n",
       "      <th>RestingBP</th>\n",
       "      <th>Cholesterol</th>\n",
       "      <th>MaxHR</th>\n",
       "      <th>Oldpeak</th>\n",
       "    </tr>\n",
       "  </thead>\n",
       "  <tbody>\n",
       "    <tr>\n",
       "      <th>0</th>\n",
       "      <td>40</td>\n",
       "      <td>140</td>\n",
       "      <td>289</td>\n",
       "      <td>172</td>\n",
       "      <td>0.0</td>\n",
       "    </tr>\n",
       "    <tr>\n",
       "      <th>1</th>\n",
       "      <td>49</td>\n",
       "      <td>160</td>\n",
       "      <td>180</td>\n",
       "      <td>156</td>\n",
       "      <td>1.0</td>\n",
       "    </tr>\n",
       "    <tr>\n",
       "      <th>2</th>\n",
       "      <td>37</td>\n",
       "      <td>130</td>\n",
       "      <td>283</td>\n",
       "      <td>98</td>\n",
       "      <td>0.0</td>\n",
       "    </tr>\n",
       "    <tr>\n",
       "      <th>3</th>\n",
       "      <td>48</td>\n",
       "      <td>138</td>\n",
       "      <td>214</td>\n",
       "      <td>108</td>\n",
       "      <td>1.5</td>\n",
       "    </tr>\n",
       "    <tr>\n",
       "      <th>4</th>\n",
       "      <td>54</td>\n",
       "      <td>150</td>\n",
       "      <td>195</td>\n",
       "      <td>122</td>\n",
       "      <td>0.0</td>\n",
       "    </tr>\n",
       "  </tbody>\n",
       "</table>\n",
       "</div>"
      ],
      "text/plain": [
       "   Age  RestingBP  Cholesterol  MaxHR  Oldpeak\n",
       "0   40        140          289    172      0.0\n",
       "1   49        160          180    156      1.0\n",
       "2   37        130          283     98      0.0\n",
       "3   48        138          214    108      1.5\n",
       "4   54        150          195    122      0.0"
      ]
     },
     "execution_count": 81,
     "metadata": {},
     "output_type": "execute_result"
    }
   ],
   "source": [
    "number_df = df.select_dtypes(['number']).copy()\n",
    "number_df.drop('FastingBS', inplace = True, axis=1)\n",
    "number_df.drop('HeartDisease', inplace = True, axis=1)\n",
    "number_df.head(5)"
   ]
  },
  {
   "cell_type": "code",
   "execution_count": 82,
   "metadata": {},
   "outputs": [],
   "source": [
    "X_train, X_test, y_train, y_test = train_test_split(number_df, disease_df, test_size=0.20, random_state=42)\n",
    "\n",
    "kf = KFold(n_splits=10, shuffle=True, random_state=42)\n",
    "kf.get_n_splits(number_df)\n",
    "\n",
    "for train_index, test_index in kf.split(number_df):\n",
    "    X_train_fold, X_test_fold = number_df.iloc[train_index, :], number_df.iloc[test_index, :]\n",
    "    y_train_fold, y_test_fold = disease_df.iloc[train_index, :], disease_df.iloc[test_index, :]"
   ]
  },
  {
   "cell_type": "code",
   "execution_count": 83,
   "metadata": {},
   "outputs": [],
   "source": [
    "reg = linear_model.LinearRegression().fit(X_train, y_train)\n",
    "reg_fold = linear_model.LinearRegression().fit(X_train_fold, y_train_fold)\n",
    "prediction = reg.predict(X_test)\n",
    "prediction_fold = reg_fold.predict(X_test_fold)"
   ]
  },
  {
   "cell_type": "code",
   "execution_count": 84,
   "metadata": {},
   "outputs": [
    {
     "name": "stdout",
     "output_type": "stream",
     "text": [
      "R2 score = 0.1992849854101466\n",
      "explained_variance_score = 0.21843869129206805\n"
     ]
    }
   ],
   "source": [
    "print(\"R2 score = \" + str(r2_score(y_test, prediction)))\n",
    "print(\"explained_variance_score = \" + str(explained_variance_score(y_test, prediction)))\n"
   ]
  },
  {
   "cell_type": "code",
   "execution_count": 85,
   "metadata": {},
   "outputs": [
    {
     "name": "stdout",
     "output_type": "stream",
     "text": [
      "R2 score = 0.28345137895850403\n",
      "explained_variance_score = 0.32380115937181486\n"
     ]
    }
   ],
   "source": [
    "print(\"R2 score = \" + str(r2_score(y_test_fold, prediction_fold)))\n",
    "print(\"explained_variance_score = \" + str(explained_variance_score(y_test_fold, prediction_fold)))"
   ]
  },
  {
   "cell_type": "markdown",
   "metadata": {},
   "source": [
    "The metrics show that this dataset is not linearly separable."
   ]
  },
  {
   "cell_type": "markdown",
   "metadata": {},
   "source": [
    "# Neural networks"
   ]
  },
  {
   "cell_type": "code",
   "execution_count": 86,
   "metadata": {},
   "outputs": [],
   "source": [
    "import tensorflow as tf\n",
    "from tensorflow import keras\n",
    "import os\n",
    "from tensorflow.keras import backend as K\n",
    "os.environ['TF_CPP_MIN_LOG_LEVEL'] = '1'\n"
   ]
  },
  {
   "cell_type": "code",
   "execution_count": 87,
   "metadata": {},
   "outputs": [
    {
     "name": "stdout",
     "output_type": "stream",
     "text": [
      "Epoch 1/100\n",
      "23/23 [==============================] - 1s 13ms/step - loss: 0.9484 - accuracy: 0.5482 - val_loss: 0.6994 - val_accuracy: 0.5761\n",
      "Epoch 2/100\n",
      "23/23 [==============================] - 0s 3ms/step - loss: 0.6354 - accuracy: 0.6455 - val_loss: 0.6088 - val_accuracy: 0.6630\n",
      "Epoch 3/100\n",
      "23/23 [==============================] - 0s 2ms/step - loss: 0.5834 - accuracy: 0.7041 - val_loss: 0.5906 - val_accuracy: 0.7391\n",
      "Epoch 4/100\n",
      "23/23 [==============================] - 0s 3ms/step - loss: 0.5650 - accuracy: 0.7124 - val_loss: 0.5995 - val_accuracy: 0.7337\n",
      "Epoch 5/100\n",
      "23/23 [==============================] - 0s 3ms/step - loss: 0.5622 - accuracy: 0.7004 - val_loss: 0.5864 - val_accuracy: 0.6957\n",
      "Epoch 6/100\n",
      "23/23 [==============================] - 0s 2ms/step - loss: 0.5663 - accuracy: 0.7082 - val_loss: 0.5708 - val_accuracy: 0.7446\n",
      "Epoch 7/100\n",
      "23/23 [==============================] - 0s 2ms/step - loss: 0.5753 - accuracy: 0.7129 - val_loss: 0.5741 - val_accuracy: 0.7446\n",
      "Epoch 8/100\n",
      "23/23 [==============================] - 0s 3ms/step - loss: 0.5640 - accuracy: 0.7259 - val_loss: 0.5698 - val_accuracy: 0.7391\n",
      "Epoch 9/100\n",
      "23/23 [==============================] - 0s 2ms/step - loss: 0.5447 - accuracy: 0.7460 - val_loss: 0.5843 - val_accuracy: 0.7120\n",
      "Epoch 10/100\n",
      "23/23 [==============================] - 0s 3ms/step - loss: 0.5144 - accuracy: 0.7731 - val_loss: 0.6115 - val_accuracy: 0.6848\n",
      "Epoch 11/100\n",
      "23/23 [==============================] - 0s 3ms/step - loss: 0.5458 - accuracy: 0.7362 - val_loss: 0.5812 - val_accuracy: 0.6957\n",
      "Epoch 12/100\n",
      "23/23 [==============================] - 0s 3ms/step - loss: 0.5392 - accuracy: 0.7421 - val_loss: 0.5736 - val_accuracy: 0.7120\n",
      "Epoch 13/100\n",
      "23/23 [==============================] - 0s 3ms/step - loss: 0.5294 - accuracy: 0.7595 - val_loss: 0.5872 - val_accuracy: 0.6902\n",
      "Epoch 14/100\n",
      "23/23 [==============================] - 0s 3ms/step - loss: 0.5558 - accuracy: 0.7404 - val_loss: 0.6350 - val_accuracy: 0.7011\n",
      "Epoch 15/100\n",
      "23/23 [==============================] - 0s 3ms/step - loss: 0.5628 - accuracy: 0.7099 - val_loss: 0.6217 - val_accuracy: 0.7011\n",
      "Epoch 16/100\n",
      "23/23 [==============================] - 0s 3ms/step - loss: 0.5445 - accuracy: 0.7509 - val_loss: 0.5831 - val_accuracy: 0.7011\n",
      "Epoch 17/100\n",
      "23/23 [==============================] - 0s 3ms/step - loss: 0.4821 - accuracy: 0.7851 - val_loss: 0.5887 - val_accuracy: 0.6957\n",
      "Epoch 18/100\n",
      "23/23 [==============================] - 0s 3ms/step - loss: 0.5006 - accuracy: 0.7724 - val_loss: 0.5841 - val_accuracy: 0.7011\n",
      "Epoch 19/100\n",
      "23/23 [==============================] - 0s 4ms/step - loss: 0.5097 - accuracy: 0.7578 - val_loss: 0.5751 - val_accuracy: 0.7283\n",
      "Epoch 20/100\n",
      "23/23 [==============================] - 0s 3ms/step - loss: 0.5347 - accuracy: 0.7476 - val_loss: 0.5972 - val_accuracy: 0.7011\n",
      "Epoch 21/100\n",
      "23/23 [==============================] - 0s 3ms/step - loss: 0.4935 - accuracy: 0.7824 - val_loss: 0.5786 - val_accuracy: 0.7065\n",
      "Epoch 22/100\n",
      "23/23 [==============================] - 0s 3ms/step - loss: 0.5234 - accuracy: 0.7436 - val_loss: 0.5922 - val_accuracy: 0.6902\n",
      "Epoch 23/100\n",
      "23/23 [==============================] - 0s 3ms/step - loss: 0.5099 - accuracy: 0.7589 - val_loss: 0.6654 - val_accuracy: 0.6087\n",
      "Epoch 24/100\n",
      "23/23 [==============================] - 0s 3ms/step - loss: 0.5355 - accuracy: 0.7169 - val_loss: 0.5697 - val_accuracy: 0.7120\n",
      "Epoch 25/100\n",
      "23/23 [==============================] - 0s 3ms/step - loss: 0.4916 - accuracy: 0.7687 - val_loss: 0.6355 - val_accuracy: 0.6141\n",
      "Epoch 26/100\n",
      "23/23 [==============================] - 0s 3ms/step - loss: 0.5309 - accuracy: 0.7418 - val_loss: 0.5799 - val_accuracy: 0.7120\n",
      "Epoch 27/100\n",
      "23/23 [==============================] - 0s 3ms/step - loss: 0.5241 - accuracy: 0.7444 - val_loss: 0.6032 - val_accuracy: 0.6793\n",
      "Epoch 28/100\n",
      "23/23 [==============================] - 0s 3ms/step - loss: 0.4885 - accuracy: 0.7769 - val_loss: 0.6020 - val_accuracy: 0.6793\n",
      "Epoch 29/100\n",
      "23/23 [==============================] - 0s 3ms/step - loss: 0.5018 - accuracy: 0.7684 - val_loss: 0.5626 - val_accuracy: 0.7283\n",
      "Epoch 30/100\n",
      "23/23 [==============================] - 0s 3ms/step - loss: 0.5154 - accuracy: 0.7771 - val_loss: 0.5976 - val_accuracy: 0.6902\n",
      "Epoch 31/100\n",
      "23/23 [==============================] - 0s 3ms/step - loss: 0.5070 - accuracy: 0.7777 - val_loss: 0.5706 - val_accuracy: 0.7228\n",
      "Epoch 32/100\n",
      "23/23 [==============================] - 0s 3ms/step - loss: 0.4685 - accuracy: 0.7904 - val_loss: 0.5608 - val_accuracy: 0.7337\n",
      "Epoch 33/100\n",
      "23/23 [==============================] - 0s 3ms/step - loss: 0.4817 - accuracy: 0.7787 - val_loss: 0.5695 - val_accuracy: 0.7011\n",
      "Epoch 34/100\n",
      "23/23 [==============================] - 0s 3ms/step - loss: 0.5140 - accuracy: 0.7709 - val_loss: 0.5784 - val_accuracy: 0.7120\n",
      "Epoch 35/100\n",
      "23/23 [==============================] - 0s 3ms/step - loss: 0.4939 - accuracy: 0.7722 - val_loss: 0.6256 - val_accuracy: 0.6413\n",
      "Epoch 36/100\n",
      "23/23 [==============================] - 0s 2ms/step - loss: 0.4993 - accuracy: 0.7804 - val_loss: 0.5770 - val_accuracy: 0.7174\n",
      "Epoch 37/100\n",
      "23/23 [==============================] - 0s 3ms/step - loss: 0.4755 - accuracy: 0.7800 - val_loss: 0.5664 - val_accuracy: 0.7120\n",
      "Epoch 38/100\n",
      "23/23 [==============================] - 0s 12ms/step - loss: 0.4659 - accuracy: 0.7928 - val_loss: 0.5638 - val_accuracy: 0.7120\n",
      "Epoch 39/100\n",
      "23/23 [==============================] - 0s 4ms/step - loss: 0.4939 - accuracy: 0.7876 - val_loss: 0.5599 - val_accuracy: 0.7120\n",
      "Epoch 40/100\n",
      "23/23 [==============================] - 0s 3ms/step - loss: 0.4733 - accuracy: 0.8088 - val_loss: 0.5565 - val_accuracy: 0.7500\n",
      "Epoch 41/100\n",
      "23/23 [==============================] - 0s 2ms/step - loss: 0.5071 - accuracy: 0.7701 - val_loss: 0.5501 - val_accuracy: 0.7228\n",
      "Epoch 42/100\n",
      "23/23 [==============================] - 0s 2ms/step - loss: 0.4708 - accuracy: 0.7837 - val_loss: 0.5507 - val_accuracy: 0.7174\n",
      "Epoch 43/100\n",
      "23/23 [==============================] - 0s 2ms/step - loss: 0.4440 - accuracy: 0.8102 - val_loss: 0.5460 - val_accuracy: 0.7228\n",
      "Epoch 44/100\n",
      "23/23 [==============================] - 0s 3ms/step - loss: 0.4983 - accuracy: 0.7717 - val_loss: 0.5477 - val_accuracy: 0.7717\n",
      "Epoch 45/100\n",
      "23/23 [==============================] - 0s 2ms/step - loss: 0.4621 - accuracy: 0.7993 - val_loss: 0.5761 - val_accuracy: 0.7228\n",
      "Epoch 46/100\n",
      "23/23 [==============================] - 0s 4ms/step - loss: 0.4627 - accuracy: 0.8050 - val_loss: 0.5387 - val_accuracy: 0.7554\n",
      "Epoch 47/100\n",
      "23/23 [==============================] - 0s 3ms/step - loss: 0.4903 - accuracy: 0.7939 - val_loss: 0.6170 - val_accuracy: 0.7065\n",
      "Epoch 48/100\n",
      "23/23 [==============================] - 0s 3ms/step - loss: 0.4904 - accuracy: 0.7809 - val_loss: 0.5950 - val_accuracy: 0.6902\n",
      "Epoch 49/100\n",
      "23/23 [==============================] - 0s 2ms/step - loss: 0.5082 - accuracy: 0.7638 - val_loss: 0.5411 - val_accuracy: 0.7337\n",
      "Epoch 50/100\n",
      "23/23 [==============================] - 0s 2ms/step - loss: 0.4729 - accuracy: 0.7862 - val_loss: 0.5477 - val_accuracy: 0.7283\n",
      "Epoch 51/100\n",
      "23/23 [==============================] - 0s 2ms/step - loss: 0.4602 - accuracy: 0.7946 - val_loss: 0.5397 - val_accuracy: 0.7283\n",
      "Epoch 52/100\n",
      "23/23 [==============================] - 0s 2ms/step - loss: 0.4441 - accuracy: 0.7921 - val_loss: 0.5464 - val_accuracy: 0.7283\n",
      "Epoch 53/100\n",
      "23/23 [==============================] - 0s 2ms/step - loss: 0.4765 - accuracy: 0.7951 - val_loss: 0.5276 - val_accuracy: 0.7446\n",
      "Epoch 54/100\n",
      "23/23 [==============================] - 0s 2ms/step - loss: 0.4776 - accuracy: 0.7884 - val_loss: 0.5884 - val_accuracy: 0.7011\n",
      "Epoch 55/100\n",
      "23/23 [==============================] - 0s 2ms/step - loss: 0.4812 - accuracy: 0.7888 - val_loss: 0.5322 - val_accuracy: 0.7391\n",
      "Epoch 56/100\n",
      "23/23 [==============================] - 0s 2ms/step - loss: 0.4999 - accuracy: 0.7606 - val_loss: 0.5993 - val_accuracy: 0.6848\n",
      "Epoch 57/100\n",
      "23/23 [==============================] - 0s 2ms/step - loss: 0.5044 - accuracy: 0.7653 - val_loss: 0.6344 - val_accuracy: 0.6957\n",
      "Epoch 58/100\n",
      "23/23 [==============================] - 0s 2ms/step - loss: 0.4779 - accuracy: 0.7888 - val_loss: 0.6630 - val_accuracy: 0.6522\n",
      "Epoch 59/100\n",
      "23/23 [==============================] - 0s 2ms/step - loss: 0.5217 - accuracy: 0.7562 - val_loss: 0.5305 - val_accuracy: 0.7337\n",
      "Epoch 60/100\n",
      "23/23 [==============================] - 0s 2ms/step - loss: 0.4667 - accuracy: 0.8042 - val_loss: 0.6283 - val_accuracy: 0.6848\n",
      "Epoch 61/100\n",
      "23/23 [==============================] - 0s 2ms/step - loss: 0.5022 - accuracy: 0.7825 - val_loss: 0.5255 - val_accuracy: 0.7446\n",
      "Epoch 62/100\n",
      "23/23 [==============================] - 0s 2ms/step - loss: 0.4968 - accuracy: 0.7848 - val_loss: 0.5510 - val_accuracy: 0.7283\n",
      "Epoch 63/100\n",
      "23/23 [==============================] - 0s 2ms/step - loss: 0.4595 - accuracy: 0.8059 - val_loss: 0.5429 - val_accuracy: 0.7337\n",
      "Epoch 64/100\n",
      "23/23 [==============================] - 0s 2ms/step - loss: 0.4700 - accuracy: 0.7935 - val_loss: 0.5465 - val_accuracy: 0.7283\n",
      "Epoch 65/100\n",
      "23/23 [==============================] - 0s 2ms/step - loss: 0.5081 - accuracy: 0.7649 - val_loss: 0.5342 - val_accuracy: 0.7337\n",
      "Epoch 66/100\n",
      "23/23 [==============================] - 0s 2ms/step - loss: 0.5241 - accuracy: 0.7702 - val_loss: 0.6059 - val_accuracy: 0.6576\n",
      "Epoch 67/100\n",
      "23/23 [==============================] - 0s 2ms/step - loss: 0.5148 - accuracy: 0.7368 - val_loss: 0.5279 - val_accuracy: 0.7391\n",
      "Epoch 68/100\n",
      "23/23 [==============================] - 0s 2ms/step - loss: 0.5023 - accuracy: 0.7692 - val_loss: 0.5609 - val_accuracy: 0.7337\n",
      "Epoch 69/100\n",
      "23/23 [==============================] - 0s 8ms/step - loss: 0.4380 - accuracy: 0.7952 - val_loss: 0.5339 - val_accuracy: 0.7446\n",
      "Epoch 70/100\n",
      "23/23 [==============================] - 0s 2ms/step - loss: 0.4851 - accuracy: 0.7724 - val_loss: 0.5540 - val_accuracy: 0.7283\n",
      "Epoch 71/100\n",
      "23/23 [==============================] - 0s 2ms/step - loss: 0.4666 - accuracy: 0.7881 - val_loss: 0.5613 - val_accuracy: 0.7228\n",
      "Epoch 72/100\n",
      "23/23 [==============================] - 0s 2ms/step - loss: 0.4427 - accuracy: 0.8177 - val_loss: 0.5436 - val_accuracy: 0.7663\n",
      "Epoch 73/100\n",
      "23/23 [==============================] - 0s 2ms/step - loss: 0.4698 - accuracy: 0.8039 - val_loss: 0.5380 - val_accuracy: 0.7228\n",
      "Epoch 74/100\n",
      "23/23 [==============================] - 0s 2ms/step - loss: 0.5117 - accuracy: 0.7636 - val_loss: 0.5770 - val_accuracy: 0.7283\n",
      "Epoch 75/100\n",
      "23/23 [==============================] - 0s 2ms/step - loss: 0.4671 - accuracy: 0.8040 - val_loss: 0.5670 - val_accuracy: 0.7283\n",
      "Epoch 76/100\n",
      "23/23 [==============================] - 0s 2ms/step - loss: 0.4475 - accuracy: 0.8273 - val_loss: 0.5316 - val_accuracy: 0.7554\n",
      "Epoch 77/100\n",
      "23/23 [==============================] - 0s 2ms/step - loss: 0.4616 - accuracy: 0.8088 - val_loss: 0.5343 - val_accuracy: 0.7554\n",
      "Epoch 78/100\n",
      "23/23 [==============================] - 0s 2ms/step - loss: 0.4759 - accuracy: 0.7842 - val_loss: 0.5319 - val_accuracy: 0.7065\n",
      "Epoch 79/100\n",
      "23/23 [==============================] - 0s 3ms/step - loss: 0.4779 - accuracy: 0.7876 - val_loss: 0.5343 - val_accuracy: 0.7228\n",
      "Epoch 80/100\n",
      "23/23 [==============================] - 0s 3ms/step - loss: 0.4428 - accuracy: 0.8108 - val_loss: 0.5860 - val_accuracy: 0.7174\n",
      "Epoch 81/100\n",
      "23/23 [==============================] - 0s 2ms/step - loss: 0.4981 - accuracy: 0.7709 - val_loss: 0.5758 - val_accuracy: 0.7174\n",
      "Epoch 82/100\n",
      "23/23 [==============================] - 0s 3ms/step - loss: 0.4467 - accuracy: 0.8127 - val_loss: 0.5572 - val_accuracy: 0.7228\n",
      "Epoch 83/100\n",
      "23/23 [==============================] - 0s 2ms/step - loss: 0.4753 - accuracy: 0.8035 - val_loss: 0.5331 - val_accuracy: 0.7174\n",
      "Epoch 84/100\n",
      "23/23 [==============================] - 0s 3ms/step - loss: 0.4657 - accuracy: 0.8074 - val_loss: 0.5326 - val_accuracy: 0.7065\n",
      "Epoch 85/100\n",
      "23/23 [==============================] - 0s 3ms/step - loss: 0.4367 - accuracy: 0.8215 - val_loss: 0.5985 - val_accuracy: 0.6793\n",
      "Epoch 86/100\n",
      "23/23 [==============================] - 0s 3ms/step - loss: 0.4791 - accuracy: 0.7892 - val_loss: 0.5640 - val_accuracy: 0.7228\n",
      "Epoch 87/100\n",
      "23/23 [==============================] - 0s 2ms/step - loss: 0.4407 - accuracy: 0.8096 - val_loss: 0.5289 - val_accuracy: 0.7120\n",
      "Epoch 88/100\n",
      "23/23 [==============================] - 0s 2ms/step - loss: 0.4690 - accuracy: 0.7943 - val_loss: 0.5319 - val_accuracy: 0.7228\n",
      "Epoch 89/100\n",
      "23/23 [==============================] - 0s 3ms/step - loss: 0.4617 - accuracy: 0.7844 - val_loss: 0.5347 - val_accuracy: 0.7283\n",
      "Epoch 90/100\n",
      "23/23 [==============================] - 0s 3ms/step - loss: 0.4763 - accuracy: 0.7915 - val_loss: 0.5385 - val_accuracy: 0.7174\n",
      "Epoch 91/100\n",
      "23/23 [==============================] - 0s 3ms/step - loss: 0.4597 - accuracy: 0.7975 - val_loss: 0.5378 - val_accuracy: 0.7228\n",
      "Epoch 92/100\n",
      "23/23 [==============================] - 0s 2ms/step - loss: 0.4362 - accuracy: 0.8142 - val_loss: 0.5399 - val_accuracy: 0.7337\n",
      "Epoch 93/100\n",
      "23/23 [==============================] - 0s 2ms/step - loss: 0.4627 - accuracy: 0.7984 - val_loss: 0.5511 - val_accuracy: 0.7554\n",
      "Epoch 94/100\n",
      "23/23 [==============================] - 0s 2ms/step - loss: 0.4932 - accuracy: 0.7801 - val_loss: 0.5315 - val_accuracy: 0.7120\n",
      "Epoch 95/100\n",
      "23/23 [==============================] - 0s 8ms/step - loss: 0.4623 - accuracy: 0.7905 - val_loss: 0.5572 - val_accuracy: 0.7228\n",
      "Epoch 96/100\n",
      "23/23 [==============================] - 0s 2ms/step - loss: 0.4788 - accuracy: 0.7871 - val_loss: 0.5738 - val_accuracy: 0.7228\n",
      "Epoch 97/100\n",
      "23/23 [==============================] - 0s 2ms/step - loss: 0.4554 - accuracy: 0.8148 - val_loss: 0.5414 - val_accuracy: 0.7228\n",
      "Epoch 98/100\n",
      "23/23 [==============================] - 0s 2ms/step - loss: 0.4691 - accuracy: 0.7758 - val_loss: 0.5747 - val_accuracy: 0.7228\n",
      "Epoch 99/100\n",
      "23/23 [==============================] - 0s 2ms/step - loss: 0.4842 - accuracy: 0.7922 - val_loss: 0.5511 - val_accuracy: 0.7663\n",
      "Epoch 100/100\n",
      "23/23 [==============================] - 0s 2ms/step - loss: 0.4800 - accuracy: 0.7973 - val_loss: 0.5408 - val_accuracy: 0.7065\n"
     ]
    }
   ],
   "source": [
    "optimizer = keras.optimizers.Adam(lr=0.01)\n",
    "\n",
    "model = keras.models.Sequential()\n",
    "model.add(keras.layers.Dense(5, activation=\"relu\"))\n",
    "model.add(keras.layers.Dense(20, activation=\"relu\"))\n",
    "model.add(keras.layers.Dense(20, activation=\"relu\"))\n",
    "model.add(keras.layers.Dense(20, activation=\"relu\"))\n",
    "model.add(keras.layers.Dense(1, activation=\"sigmoid\"))\n",
    "\n",
    "\n",
    "model.compile(loss=\"binary_crossentropy\", optimizer=optimizer, metrics=[\"accuracy\"])\n",
    "\n",
    "history = model.fit(X_train, y_train, epochs=100, validation_data=(X_test, y_test))"
   ]
  },
  {
   "cell_type": "markdown",
   "metadata": {},
   "source": [
    "### Experiment conclusion\n",
    "A higher number of layers allows the recognition of higher level patterns and a better generalization. For this dataset, the best performance is btained with a neural network with 3 hidden layers with 20 neurones each.\n",
    "\n",
    "The model get its optmal weight fast.\n",
    "\n",
    "Concerning the learning rate, the model obtains it's best performance faster with a value between 0.01 and 0.001, a higher or a lower value will decrease the performance."
   ]
  }
 ],
 "metadata": {
  "interpreter": {
   "hash": "10e2f20e579521ab8440449af66a589b7bed808e19e449c8ac839f4aee243b16"
  },
  "kernelspec": {
   "display_name": "Python 3 (ipykernel)",
   "language": "python",
   "name": "python3"
  },
  "language_info": {
   "codemirror_mode": {
    "name": "ipython",
    "version": 3
   },
   "file_extension": ".py",
   "mimetype": "text/x-python",
   "name": "python",
   "nbconvert_exporter": "python",
   "pygments_lexer": "ipython3",
   "version": "3.8.2"
  }
 },
 "nbformat": 4,
 "nbformat_minor": 2
}
